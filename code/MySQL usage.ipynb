{
 "cells": [
  {
   "cell_type": "code",
   "execution_count": 44,
   "metadata": {},
   "outputs": [],
   "source": [
    "import MySQLdb\n",
    "import numpy as np\n",
    "import pandas as pd"
   ]
  },
  {
   "cell_type": "code",
   "execution_count": 57,
   "metadata": {},
   "outputs": [
    {
     "ename": "SyntaxError",
     "evalue": "invalid syntax (<ipython-input-57-10c5a485bc1e>, line 1)",
     "output_type": "error",
     "traceback": [
      "\u001b[1;36m  File \u001b[1;32m\"<ipython-input-57-10c5a485bc1e>\"\u001b[1;36m, line \u001b[1;32m1\u001b[0m\n\u001b[1;33m    db = MySQLdb.connect(host=\"192.168.84.88\",port=3306, user=, passwd=)\u001b[0m\n\u001b[1;37m                                                              ^\u001b[0m\n\u001b[1;31mSyntaxError\u001b[0m\u001b[1;31m:\u001b[0m invalid syntax\n"
     ]
    }
   ],
   "source": [
    "db = MySQLdb.connect(host=\"192.168.84.88\",port=3306, user=, passwd=)"
   ]
  },
  {
   "cell_type": "code",
   "execution_count": 41,
   "metadata": {},
   "outputs": [],
   "source": [
    "kb = db.cursor()"
   ]
  },
  {
   "cell_type": "code",
   "execution_count": 42,
   "metadata": {},
   "outputs": [
    {
     "data": {
      "text/plain": [
       "(('customers',),\n",
       " ('information_schema',),\n",
       " ('monthly_deals',),\n",
       " ('monthly_leads',),\n",
       " ('monthly_mqls',),\n",
       " ('mysql',),\n",
       " ('performance_schema',),\n",
       " ('phpmyadmin',),\n",
       " ('product_launch',))"
      ]
     },
     "execution_count": 42,
     "metadata": {},
     "output_type": "execute_result"
    }
   ],
   "source": [
    "kb.execute(\"SHOW DATABASES\")\n",
    "kb.fetchall()"
   ]
  },
  {
   "cell_type": "code",
   "execution_count": 46,
   "metadata": {},
   "outputs": [
    {
     "data": {
      "text/plain": [
       "0"
      ]
     },
     "execution_count": 46,
     "metadata": {},
     "output_type": "execute_result"
    }
   ],
   "source": [
    "kb.execute(\"use monthly_deals\")"
   ]
  },
  {
   "cell_type": "code",
   "execution_count": 56,
   "metadata": {},
   "outputs": [
    {
     "name": "stdout",
     "output_type": "stream",
     "text": [
      "MultiIndex(levels=[[2017-11-08 10:00:00, 2017-11-08 10:20:30, 2017-11-08 12:12:13, 2017-11-09 09:32:00], ['Favendo', 'Navigine', 'OnYourMaps'], [0, 1], [0, 1], [0.0, 543433.0, 123123000.0], [1000, 1234, 4452], [1, 2, 3, 4]],\n",
      "           labels=[[0, 1, 2, 3], [0, 0, 1, 2], [0, 0, 1, 0], [0, 1, 1, 1], [0, 0, 2, 1], [0, 1, 0, 2], [0, 1, 2, 3]])\n"
     ]
    }
   ],
   "source": [
    "kb.execute(\"SELECT * from November\")\n",
    "november_deals = kb.fetchall()\n",
    "#print(type(november_deals))\n",
    "#pd_november_deals = pd.DataFrame.\n",
    "pd_november_deals = pd.MultiIndex.from_tuples(november_deals)\n",
    "print(pd_november_deals)"
   ]
  },
  {
   "cell_type": "code",
   "execution_count": 33,
   "metadata": {},
   "outputs": [
    {
     "data": {
      "text/plain": [
       "(datetime.datetime(2017, 11, 8, 10, 0), 'Favendo', 0, 0, 0.0, 1000, 1)"
      ]
     },
     "execution_count": 33,
     "metadata": {},
     "output_type": "execute_result"
    }
   ],
   "source": [
    "kb.fetchone()"
   ]
  },
  {
   "cell_type": "code",
   "execution_count": 35,
   "metadata": {},
   "outputs": [
    {
     "data": {
      "text/plain": [
       "((datetime.datetime(2017, 11, 8, 10, 20, 30), 'Favendo', 0, 1, 0.0, 1234, 2),\n",
       " (datetime.datetime(2017, 11, 8, 12, 12, 13),\n",
       "  'Navigine',\n",
       "  1,\n",
       "  1,\n",
       "  123123000.0,\n",
       "  1000,\n",
       "  3),\n",
       " (datetime.datetime(2017, 11, 9, 9, 32),\n",
       "  'OnYourMaps',\n",
       "  0,\n",
       "  1,\n",
       "  543433.0,\n",
       "  4452,\n",
       "  4))"
      ]
     },
     "execution_count": 35,
     "metadata": {},
     "output_type": "execute_result"
    }
   ],
   "source": [
    "kb.fetchall()"
   ]
  },
  {
   "cell_type": "code",
   "execution_count": null,
   "metadata": {
    "collapsed": true
   },
   "outputs": [],
   "source": []
  }
 ],
 "metadata": {
  "kernelspec": {
   "display_name": "Python 3",
   "language": "python",
   "name": "python3"
  },
  "language_info": {
   "codemirror_mode": {
    "name": "ipython",
    "version": 3
   },
   "file_extension": ".py",
   "mimetype": "text/x-python",
   "name": "python",
   "nbconvert_exporter": "python",
   "pygments_lexer": "ipython3",
   "version": "3.6.0"
  }
 },
 "nbformat": 4,
 "nbformat_minor": 2
}
