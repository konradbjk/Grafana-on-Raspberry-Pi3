{
 "cells": [
  {
   "cell_type": "code",
   "execution_count": 5,
   "metadata": {},
   "outputs": [],
   "source": [
    "import requests\n",
    "import json\n",
    "import time\n",
    "import config"
   ]
  },
  {
   "cell_type": "code",
   "execution_count": 6,
   "metadata": {},
   "outputs": [
    {
     "name": "stdout",
     "output_type": "stream",
     "text": [
      "703eb8de3aaef415de9881d231723edc94343db0eceb995118ceb366480a0ed9\n"
     ]
    }
   ],
   "source": [
    "# your oauth token\n",
    "token = config.basecrm_auth_token\n",
    "print(token)\n"
   ]
  },
  {
   "cell_type": "code",
   "execution_count": null,
   "metadata": {},
   "outputs": [],
   "source": [
    "# main poll loop - check for new events every 5 seconds\n",
    "startingPosition = 'top'\n",
    "while True:\n",
    "\n",
    "    # loop to recieve all pages of events since we checked last time\n",
    "    onTop = False\n",
    "    while not onTop:\n",
    "        print('Polling...')\n",
    "        url = \"https://api.getbase.com/v3/deals/stream\"\n",
    "        response = requests.get(url,\n",
    "                params={'position': startingPosition},\n",
    "                headers={'Authorization':'Bearer {}'.format(token)})\n",
    "\n",
    "        if response.status_code != 200:\n",
    "            raise Exception('Request failed with {}'\n",
    "                .format(response.status_code))\n",
    "\n",
    "        # iterate through events and print them\n",
    "        for item in response.json()['items']:\n",
    "            print(\"Deal data:\\n {}\".format(json.dumps(item['data'], indent=4)));\n",
    "            if item['meta']['event_type'] == 'updated':\n",
    "                print(\"Updated: {}\".format(item['meta']['previous'].keys()))\n",
    "                print(\"Old values:\\n{}\".format(json.dumps(item['meta']['previous'], indent=4)));\n",
    "\n",
    "        # check if we have reached the top of the stream\n",
    "        onTop = response.json()['meta']['top']\n",
    "\n",
    "        # prepare the position for the next request\n",
    "        startingPosition = response.json()['meta']['position']\n",
    "\n",
    "    print(\"Sleeping...\")\n",
    "    time.sleep(5)"
   ]
  },
  {
   "cell_type": "code",
   "execution_count": null,
   "metadata": {},
   "outputs": [],
   "source": []
  }
 ],
 "metadata": {
  "kernelspec": {
   "display_name": "Python 3",
   "language": "python",
   "name": "python3"
  },
  "language_info": {
   "codemirror_mode": {
    "name": "ipython",
    "version": 3
   },
   "file_extension": ".py",
   "mimetype": "text/x-python",
   "name": "python",
   "nbconvert_exporter": "python",
   "pygments_lexer": "ipython3",
   "version": "3.5.4"
  }
 },
 "nbformat": 4,
 "nbformat_minor": 2
}
