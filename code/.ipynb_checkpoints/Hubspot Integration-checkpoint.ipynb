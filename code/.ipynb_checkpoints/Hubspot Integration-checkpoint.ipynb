{
 "cells": [
  {
   "cell_type": "markdown",
   "metadata": {},
   "source": [
    "# Hubspot Integration"
   ]
  },
  {
   "cell_type": "code",
   "execution_count": 1,
   "metadata": {},
   "outputs": [],
   "source": [
    "import urllib3, json, requests\n",
    "from bs4 import BeautifulSoup\n",
    "import urllib.request as urllib2\n",
    "import pandas as pd\n",
    "import config"
   ]
  },
  {
   "cell_type": "code",
   "execution_count": 2,
   "metadata": {},
   "outputs": [],
   "source": [
    "api_key =  \"?hapikey=\" + config.hubspot_api_key\n",
    "hubspot_api_url = \"http://api.hubapi.com\"\n",
    "http = urllib3.PoolManager()\n"
   ]
  },
  {
   "cell_type": "code",
   "execution_count": 3,
   "metadata": {},
   "outputs": [],
   "source": [
    "def getTotalNumberOfContacts():\n",
    "    # First, we build the correct url\n",
    "\n",
    "    xulr = \"/contacts/v1/contacts/statistics\"\n",
    "\n",
    "    url = hubspot_api_url + xulr + api_key\n",
    "    # Now we use urllib3 to open the url and read it\n",
    "    #print(url)\n",
    "    #response = requests.get(url)\n",
    "    #page = urllib2.urlopen(url)\n",
    "    #soup = BeautifulSoup(response.content, \"html.parser\")\n",
    "    response = urllib2.urlopen(url).read()\n",
    "\n",
    "    #soup = BeautifulSoup(page)\n",
    "    statistics = json.loads(response)\n",
    "    \n",
    "    print(statistics[\"contacts\"])\n",
    "    \n"
   ]
  },
  {
   "cell_type": "code",
   "execution_count": 4,
   "metadata": {},
   "outputs": [
    {
     "ename": "TypeError",
     "evalue": "the JSON object must be str, not 'bytes'",
     "output_type": "error",
     "traceback": [
      "\u001b[1;31m---------------------------------------------------------------------------\u001b[0m",
      "\u001b[1;31mTypeError\u001b[0m                                 Traceback (most recent call last)",
      "\u001b[1;32m<ipython-input-4-31f9cee52953>\u001b[0m in \u001b[0;36m<module>\u001b[1;34m()\u001b[0m\n\u001b[1;32m----> 1\u001b[1;33m \u001b[0mgetTotalNumberOfContacts\u001b[0m\u001b[1;33m(\u001b[0m\u001b[1;33m)\u001b[0m\u001b[1;33m\u001b[0m\u001b[0m\n\u001b[0m",
      "\u001b[1;32m<ipython-input-3-f906c8b0f69d>\u001b[0m in \u001b[0;36mgetTotalNumberOfContacts\u001b[1;34m()\u001b[0m\n\u001b[0;32m     13\u001b[0m \u001b[1;33m\u001b[0m\u001b[0m\n\u001b[0;32m     14\u001b[0m     \u001b[1;31m#soup = BeautifulSoup(page)\u001b[0m\u001b[1;33m\u001b[0m\u001b[1;33m\u001b[0m\u001b[0m\n\u001b[1;32m---> 15\u001b[1;33m     \u001b[0mstatistics\u001b[0m \u001b[1;33m=\u001b[0m \u001b[0mjson\u001b[0m\u001b[1;33m.\u001b[0m\u001b[0mloads\u001b[0m\u001b[1;33m(\u001b[0m\u001b[0mresponse\u001b[0m\u001b[1;33m)\u001b[0m\u001b[1;33m\u001b[0m\u001b[0m\n\u001b[0m\u001b[0;32m     16\u001b[0m \u001b[1;33m\u001b[0m\u001b[0m\n\u001b[0;32m     17\u001b[0m     \u001b[0mprint\u001b[0m\u001b[1;33m(\u001b[0m\u001b[0mstatistics\u001b[0m\u001b[1;33m[\u001b[0m\u001b[1;34m\"contacts\"\u001b[0m\u001b[1;33m]\u001b[0m\u001b[1;33m)\u001b[0m\u001b[1;33m\u001b[0m\u001b[0m\n",
      "\u001b[1;32mc:\\program files\\python35\\lib\\json\\__init__.py\u001b[0m in \u001b[0;36mloads\u001b[1;34m(s, encoding, cls, object_hook, parse_float, parse_int, parse_constant, object_pairs_hook, **kw)\u001b[0m\n\u001b[0;32m    310\u001b[0m     \u001b[1;32mif\u001b[0m \u001b[1;32mnot\u001b[0m \u001b[0misinstance\u001b[0m\u001b[1;33m(\u001b[0m\u001b[0ms\u001b[0m\u001b[1;33m,\u001b[0m \u001b[0mstr\u001b[0m\u001b[1;33m)\u001b[0m\u001b[1;33m:\u001b[0m\u001b[1;33m\u001b[0m\u001b[0m\n\u001b[0;32m    311\u001b[0m         raise TypeError('the JSON object must be str, not {!r}'.format(\n\u001b[1;32m--> 312\u001b[1;33m                             s.__class__.__name__))\n\u001b[0m\u001b[0;32m    313\u001b[0m     \u001b[1;32mif\u001b[0m \u001b[0ms\u001b[0m\u001b[1;33m.\u001b[0m\u001b[0mstartswith\u001b[0m\u001b[1;33m(\u001b[0m\u001b[1;34mu'\\ufeff'\u001b[0m\u001b[1;33m)\u001b[0m\u001b[1;33m:\u001b[0m\u001b[1;33m\u001b[0m\u001b[0m\n\u001b[0;32m    314\u001b[0m         raise JSONDecodeError(\"Unexpected UTF-8 BOM (decode using utf-8-sig)\",\n",
      "\u001b[1;31mTypeError\u001b[0m: the JSON object must be str, not 'bytes'"
     ]
    }
   ],
   "source": [
    "getTotalNumberOfContacts()"
   ]
  },
  {
   "cell_type": "code",
   "execution_count": 118,
   "metadata": {
    "collapsed": true
   },
   "outputs": [],
   "source": [
    "def get_recently_created_contacts():\n",
    "    \n",
    "    xulr = \"/contacts/v1/lists/all/contacts/recent\"\n",
    "\n",
    "    url = hubspot_api_url + xulr + api_key +\"&timeOffset=2\"\n",
    "    # Now we use urllib3 to open the url and read it\n",
    "    #print(url)\n",
    "    response = urllib2.urlopen(url).read()\n",
    "    #response = requests.get(url)\n",
    "    #soup = BeautifulSoup(response.content, \"html.parser\")\n",
    "    statistics = json.loads(response)\n",
    "    df = pd.DataFrame(statistics[\"contacts\"])\n",
    "    lista = statistics[\"contacts\"]    \n",
    "    print(l0)"
   ]
  },
  {
   "cell_type": "code",
   "execution_count": 119,
   "metadata": {},
   "outputs": [
    {
     "name": "stdout",
     "output_type": "stream",
     "text": [
      "<class 'dict'>\n",
      "{'addedAt': 1512394575789, 'vid': 45816011, 'canonical-vid': 45816011, 'merged-vids': [], 'portal-id': 556697, 'is-contact': True, 'profile-token': 'AO_T-mMu-9DJk8sRfdl7gV1r-tz2Ahdfso6aQN87CHtOBeDi9rwt8dT5SVT8CHFRe98XZEEBaRZ9TtpmRbZvyXP7u1y9DoXY3CMxbbg_t4ZsdFtllVXZuaLUjsRceTXIWIIyR1ogvEeO', 'profile-url': 'https://app.hubspot.com/contacts/556697/lists/public/contact/_AO_T-mMu-9DJk8sRfdl7gV1r-tz2Ahdfso6aQN87CHtOBeDi9rwt8dT5SVT8CHFRe98XZEEBaRZ9TtpmRbZvyXP7u1y9DoXY3CMxbbg_t4ZsdFtllVXZuaLUjsRceTXIWIIyR1ogvEeO/', 'properties': {'firstname': {'value': 'Dawid'}, 'lastmodifieddate': {'value': '1512396394016'}, 'company': {'value': 'Lancer'}, 'lastname': {'value': 'Sokolski'}}, 'form-submissions': [{'conversion-id': 'f6039e2e-620c-4311-8692-e0d859ec13b3', 'timestamp': 1512394575789, 'form-id': '39a44f3b-bdb2-406e-a78c-c304a4a53c07', 'portal-id': 556697, 'title': 'Panel Kontakt.io - create an account - TEST', 'form-type': 'HUBSPOT', 'meta-data': []}], 'identity-profiles': [{'vid': 45816011, 'saved-at-timestamp': 1512394576215, 'deleted-changed-timestamp': 0, 'identities': [{'type': 'EMAIL', 'value': 'dawid.sokolskii@gmail.com', 'timestamp': 1512394575789, 'is-primary': True}, {'type': 'LEAD_GUID', 'value': '4ca61a64-b73f-49d1-b794-cbdf64d56506', 'timestamp': 1512394576212}]}], 'merge-audits': []}\n"
     ]
    }
   ],
   "source": [
    "get_recently_created_contacts()"
   ]
  },
  {
   "cell_type": "code",
   "execution_count": null,
   "metadata": {
    "collapsed": true
   },
   "outputs": [],
   "source": []
  }
 ],
 "metadata": {
  "kernelspec": {
   "display_name": "Python 3",
   "language": "python",
   "name": "python3"
  },
  "language_info": {
   "codemirror_mode": {
    "name": "ipython",
    "version": 3
   },
   "file_extension": ".py",
   "mimetype": "text/x-python",
   "name": "python",
   "nbconvert_exporter": "python",
   "pygments_lexer": "ipython3",
   "version": "3.5.4"
  }
 },
 "nbformat": 4,
 "nbformat_minor": 2
}
