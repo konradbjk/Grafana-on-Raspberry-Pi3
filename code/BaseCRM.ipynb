{
 "cells": [
  {
   "cell_type": "markdown",
   "metadata": {},
   "source": [
    "# BaceCRM Integration"
   ]
  },
  {
   "cell_type": "markdown",
   "metadata": {},
   "source": [
    "## Package imports\n",
    "In the config.py file we store auth tokens for basecrm as a string variable."
   ]
  },
  {
   "cell_type": "code",
   "execution_count": null,
   "metadata": {},
   "outputs": [],
   "source": [
    "import basecrm\n",
    "import pandas as pd\n",
    "from pandas.io.json import json_normalize\n",
    "import MySQLdb\n",
    "\n",
    "\n",
    "import urllib3, json, requests\n",
    "import urllib.request as urllib2\n",
    "\n",
    "# Tokens\n",
    "import config\n"
   ]
  },
  {
   "cell_type": "markdown",
   "metadata": {},
   "source": [
    "## BaseCRM python SDK testing"
   ]
  },
  {
   "cell_type": "code",
   "execution_count": null,
   "metadata": {},
   "outputs": [],
   "source": [
    "client = basecrm.Client(access_token=config.basecrm_auth_token)"
   ]
  },
  {
   "cell_type": "code",
   "execution_count": null,
   "metadata": {},
   "outputs": [],
   "source": [
    "pd_deals_list = pd.DataFrame(client.deals.list())"
   ]
  },
  {
   "cell_type": "code",
   "execution_count": null,
   "metadata": {},
   "outputs": [],
   "source": [
    "pd_deals_list"
   ]
  },
  {
   "cell_type": "code",
   "execution_count": null,
   "metadata": {},
   "outputs": [],
   "source": [
    "pd_leads_list_sources = pd.DataFrame(client.lead_sources.list())\n",
    "pd_leads_list_sources"
   ]
  },
  {
   "cell_type": "code",
   "execution_count": null,
   "metadata": {},
   "outputs": [],
   "source": [
    "pd_leads_list = pd.DataFrame(client.deals.)\n",
    "pd_leads_list"
   ]
  },
  {
   "cell_type": "code",
   "execution_count": null,
   "metadata": {},
   "outputs": [],
   "source": [
    "pd_loss_reason_list = pd.DataFrame()\n",
    "pd_loss_reason_list"
   ]
  },
  {
   "cell_type": "code",
   "execution_count": null,
   "metadata": {},
   "outputs": [],
   "source": [
    "pd_client_stages = pd.DataFrame(client.stages.list())"
   ]
  },
  {
   "cell_type": "code",
   "execution_count": null,
   "metadata": {},
   "outputs": [],
   "source": [
    "pd_client_stages"
   ]
  },
  {
   "cell_type": "code",
   "execution_count": null,
   "metadata": {},
   "outputs": [],
   "source": [
    "type(client.loss_reasons.list())"
   ]
  },
  {
   "cell_type": "code",
   "execution_count": null,
   "metadata": {},
   "outputs": [],
   "source": [
    "listka = client.deals.list()\n",
    "\n",
    "listka_sorted = sorted(listka, key=lambda x: x['created_at'], reverse = True)\n",
    "listka_sorted"
   ]
  },
  {
   "cell_type": "markdown",
   "metadata": {},
   "source": [
    "## Top 5 deals over $10k\n",
    "\n",
    "Now we would like also to get top 5 deals from this month that were over 10k and sort them descending by value."
   ]
  },
  {
   "cell_type": "code",
   "execution_count": null,
   "metadata": {},
   "outputs": [],
   "source": [
    "def get_top_5_deals():\n",
    "    response = requests.get(\n",
    "        #url='https://api.getbase.com/v2/deals?sort_by=created_at:desc&per_page=5',\n",
    "        url='https://api.getbase.com/v2/deals?value=10000.00&sort_by=created_at:desc&per_page=5',\n",
    "\n",
    "        headers={\n",
    "          'Accept': 'application/json',\n",
    "          'Authorization': 'Bearer '+ config.basecrm_auth_token\n",
    "        },\n",
    "        verify=True\n",
    "    )\n",
    "    elevations = response.text\n",
    "    data = json.loads(elevations)\n",
    "    df = json_normalize(data['items'])\n",
    "    print(df)"
   ]
  },
  {
   "cell_type": "code",
   "execution_count": null,
   "metadata": {},
   "outputs": [],
   "source": [
    "get_top_5_deals()"
   ]
  },
  {
   "cell_type": "markdown",
   "metadata": {},
   "source": [
    "## Fetch leads list and save it to CSV file\n",
    "**get_leads()** function is asking api for leads sorted by date descending. We will recevie last 100 leads. Then we parse this data to *DataFrame* and save as csv file."
   ]
  },
  {
   "cell_type": "code",
   "execution_count": null,
   "metadata": {},
   "outputs": [],
   "source": [
    "def get_leads(filename):\n",
    "    '''This function takes as parameter string value of the name of csv file that we want it to be saved.\n",
    "    We will recevie last 100 leads. Then we parse this data to DataFrame and save as csv file.'''\n",
    "    response = requests.get(\n",
    "        url='https://api.getbase.com/v2/leads?sort_by=created_at:desc&per_page=100',\n",
    "        headers={\n",
    "          'Accept': 'application/json',\n",
    "          'Authorization': 'Bearer '+ config.basecrm_auth_token\n",
    "        },\n",
    "        verify=True\n",
    "    )\n",
    "    #str_response = response.json()\n",
    "    elevations = response.text\n",
    "    data = json.loads(elevations)\n",
    "    df = json_normalize(data['items'])\n",
    "    df.to_csv(filename)\n",
    "    #print(df)   \n",
    "    "
   ]
  },
  {
   "cell_type": "code",
   "execution_count": null,
   "metadata": {
    "scrolled": true
   },
   "outputs": [],
   "source": [
    "get_leads('page1.csv')"
   ]
  },
  {
   "cell_type": "markdown",
   "metadata": {},
   "source": [
    "## Custom fields\n",
    "**get_custom_fields()** is asking BaseCRM api for deals with partcular value in the given custom_field"
   ]
  },
  {
   "cell_type": "code",
   "execution_count": null,
   "metadata": {},
   "outputs": [],
   "source": [
    "def get_custom_fields():\n",
    "    response = requests.get(\n",
    "        url='https://api.getbase.com/v3/custom_fields/stream?position=tail',\n",
    "        headers={\n",
    "          'Accept': 'application/json',\n",
    "          'Authorization': 'Bearer '+ config.basecrm_auth_token\n",
    "        },\n",
    "        verify=True\n",
    "    )\n",
    "    print(response.text)"
   ]
  },
  {
   "cell_type": "code",
   "execution_count": null,
   "metadata": {},
   "outputs": [],
   "source": [
    "get_custom_fields()"
   ]
  }
 ],
 "metadata": {
  "kernelspec": {
   "display_name": "Python 3",
   "language": "python",
   "name": "python3"
  },
  "language_info": {
   "codemirror_mode": {
    "name": "ipython",
    "version": 3
   },
   "file_extension": ".py",
   "mimetype": "text/x-python",
   "name": "python",
   "nbconvert_exporter": "python",
   "pygments_lexer": "ipython3",
   "version": "3.5.4"
  }
 },
 "nbformat": 4,
 "nbformat_minor": 2
}
