{
 "cells": [
  {
   "cell_type": "markdown",
   "metadata": {},
   "source": [
    "# Hubspot Integration"
   ]
  },
  {
   "cell_type": "markdown",
   "metadata": {},
   "source": [
    "## Package imports\n",
    "\n",
    "In the config.py file we have hubspot api key saved as string variable"
   ]
  },
  {
   "cell_type": "code",
   "execution_count": 1,
   "metadata": {},
   "outputs": [],
   "source": [
    "import urllib3, json, requests\n",
    "from bs4 import BeautifulSoup\n",
    "import urllib.request as urllib2\n",
    "import pandas as pd\n",
    "import config"
   ]
  },
  {
   "cell_type": "code",
   "execution_count": 2,
   "metadata": {},
   "outputs": [],
   "source": [
    "api_key =  \"?hapikey=\" + config.hubspot_api_key\n",
    "hubspot_api_url = \"http://api.hubapi.com\""
   ]
  },
  {
   "cell_type": "markdown",
   "metadata": {},
   "source": [
    "## Get number of total contacts in Hubspot\n",
    "\n",
    "Now for the purpose of tests let's check how many contacts do we have in Hubspot"
   ]
  },
  {
   "cell_type": "code",
   "execution_count": null,
   "metadata": {},
   "outputs": [],
   "source": [
    "def getTotalNumberOfContacts():\n",
    "    # First, we build the correct url\n",
    "\n",
    "    xulr = \"/contacts/v1/contacts/statistics\"\n",
    "\n",
    "    url = hubspot_api_url + xulr + api_key\n",
    "    response = urllib2.urlopen(url).read()\n",
    "    str_response = response.decode('utf-8')\n",
    "\n",
    "    statistics = json.loads(str_response)\n",
    "    \n",
    "    print(statistics[\"contacts\"])\n",
    "    \n"
   ]
  },
  {
   "cell_type": "code",
   "execution_count": null,
   "metadata": {},
   "outputs": [],
   "source": [
    "getTotalNumberOfContacts()"
   ]
  },
  {
   "cell_type": "markdown",
   "metadata": {},
   "source": [
    "## Fetching leads\n",
    "\n",
    "Now we would like to fetch all the leads that were created in the Hubspot. First to check the parameters to call I recommend to use commented methods in for loop. Then As we will see the keys and values we can adopt the names to print function of each of rows."
   ]
  },
  {
   "cell_type": "code",
   "execution_count": null,
   "metadata": {},
   "outputs": [],
   "source": [
    "def get_recently_created_contacts():\n",
    "    \n",
    "    xulr = \"/contacts/v1/lists/all/contacts/recent\"\n",
    "\n",
    "    url = hubspot_api_url + xulr + api_key\n",
    "    # Now we use urllib3 to open the url and read it\n",
    "    #print(url)\n",
    "    response = urllib2.urlopen(url).read()\n",
    "    str_response = response.decode('utf-8')\n",
    "    statistics = json.loads(str_response)\n",
    "    df = pd.DataFrame(statistics[\"contacts\"])\n",
    "    lista = statistics[\"contacts\"]\n",
    "    \n",
    "    for l in lista:\n",
    "        #print(l)\n",
    "        #break\n",
    "        print(l[\"properties\"],l[\"form-submissions\"])"
   ]
  },
  {
   "cell_type": "code",
   "execution_count": null,
   "metadata": {},
   "outputs": [],
   "source": [
    "get_recently_created_contacts()"
   ]
  },
  {
   "cell_type": "markdown",
   "metadata": {},
   "source": [
    "## Fetch MQLs\n",
    "\n",
    "To get list of all MQLs from present month we need to create smart list with specific properties. It varies in different company but for example we need to have: \n",
    "* The contact property Lifecycle stage is equal to Marketing Qualified Lead.\n",
    "* The contact property Phone number is known.\n",
    "* Contact is not a member of EXCLUDE FROM ALL COMMUNICATIONS.\n",
    "\n",
    "Then we count the number of items and print it out. Also for testing purposes we print the dataframe with the items."
   ]
  },
  {
   "cell_type": "code",
   "execution_count": null,
   "metadata": {},
   "outputs": [],
   "source": [
    "def get_smart_list_contacts():\n",
    "    count = 0\n",
    "    xulr = \"/contacts/v1/lists/5459/contacts/all\"\n",
    "\n",
    "    url = hubspot_api_url + xulr + api_key\n",
    "    # Now we use urllib3 to open the url and read it\n",
    "    #print(url)\n",
    "    response = urllib2.urlopen(url).read()\n",
    "    str_response = response.decode('utf-8')\n",
    "    statistics = json.loads(str_response)\n",
    "    df = pd.DataFrame(statistics[\"contacts\"])\n",
    "    \n",
    "    for row in df['addedAt']:\n",
    "        count=count+1\n",
    "    \n",
    "    print(count)\n",
    "    print(df)\n",
    "    "
   ]
  },
  {
   "cell_type": "code",
   "execution_count": null,
   "metadata": {},
   "outputs": [],
   "source": [
    "get_smart_list_contacts()"
   ]
  },
  {
   "cell_type": "markdown",
   "metadata": {},
   "source": [
    "## Saving data to MySQL\n",
    "\n",
    "As we have this list of MQLs we now need to save them to our MySQL database."
   ]
  },
  {
   "cell_type": "code",
   "execution_count": 4,
   "metadata": {},
   "outputs": [],
   "source": [
    "import MySQLdb\n",
    "db = MySQLdb.connect(host=config.mysql_ip,port=3306, user=config.mysql_user, passwd=config.mysql_password)"
   ]
  },
  {
   "cell_type": "code",
   "execution_count": 5,
   "metadata": {},
   "outputs": [],
   "source": [
    "kb = db.cursor()"
   ]
  },
  {
   "cell_type": "code",
   "execution_count": 6,
   "metadata": {},
   "outputs": [
    {
     "data": {
      "text/plain": [
       "(('customers',),\n",
       " ('information_schema',),\n",
       " ('monthly_deals',),\n",
       " ('monthly_leads',),\n",
       " ('monthly_mqls',),\n",
       " ('mysql',),\n",
       " ('performance_schema',),\n",
       " ('phpmyadmin',),\n",
       " ('product_launch',),\n",
       " ('product_team',))"
      ]
     },
     "execution_count": 6,
     "metadata": {},
     "output_type": "execute_result"
    }
   ],
   "source": [
    "kb.execute(\"SHOW DATABASES\")\n",
    "kb.fetchall()"
   ]
  },
  {
   "cell_type": "code",
   "execution_count": 7,
   "metadata": {},
   "outputs": [
    {
     "data": {
      "text/plain": [
       "0"
      ]
     },
     "execution_count": 7,
     "metadata": {},
     "output_type": "execute_result"
    }
   ],
   "source": [
    "kb.execute(\"use monthly_mqls\")"
   ]
  },
  {
   "cell_type": "code",
   "execution_count": null,
   "metadata": {},
   "outputs": [],
   "source": []
  }
 ],
 "metadata": {
  "kernelspec": {
   "display_name": "Python 3",
   "language": "python",
   "name": "python3"
  },
  "language_info": {
   "codemirror_mode": {
    "name": "ipython",
    "version": 3
   },
   "file_extension": ".py",
   "mimetype": "text/x-python",
   "name": "python",
   "nbconvert_exporter": "python",
   "pygments_lexer": "ipython3",
   "version": "3.5.4"
  }
 },
 "nbformat": 4,
 "nbformat_minor": 2
}
