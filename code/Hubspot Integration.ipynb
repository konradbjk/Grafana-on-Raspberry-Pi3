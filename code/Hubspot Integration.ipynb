{
 "cells": [
  {
   "cell_type": "markdown",
   "metadata": {},
   "source": [
    "# Hubspot Integration"
   ]
  },
  {
   "cell_type": "code",
   "execution_count": 96,
   "metadata": {},
   "outputs": [],
   "source": [
    "import urllib3, json, requests\n",
    "from bs4 import BeautifulSoup\n",
    "import urllib.request as urllib2\n",
    "import pandas as pd"
   ]
  },
  {
   "cell_type": "code",
   "execution_count": 28,
   "metadata": {
    "collapsed": true
   },
   "outputs": [],
   "source": [
    "api_key =  \"?hapikey=\" + hubspot_api_key\n",
    "hubspot_api_url = \"http://api.hubapi.com\"\n",
    "http = urllib3.PoolManager()\n"
   ]
  },
  {
   "cell_type": "code",
   "execution_count": 94,
   "metadata": {},
   "outputs": [],
   "source": [
    "def getTotalNumberOfContacts():\n",
    "    # First, we build the correct url\n",
    "\n",
    "    xulr = \"/contacts/v1/contacts/statistics\"\n",
    "\n",
    "    url = hubspot_api_url + xulr + api_key\n",
    "    # Now we use urllib3 to open the url and read it\n",
    "    #print(url)\n",
    "    #response = requests.get(url)\n",
    "    #page = urllib2.urlopen(url)\n",
    "    #soup = BeautifulSoup(response.content, \"html.parser\")\n",
    "    response = urllib2.urlopen(url).read()\n",
    "\n",
    "    #soup = BeautifulSoup(page)\n",
    "    statistics = json.loads(response)\n",
    "    \n",
    "    print(statistics[\"contacts\"])\n",
    "    \n"
   ]
  },
  {
   "cell_type": "code",
   "execution_count": 95,
   "metadata": {},
   "outputs": [
    {
     "name": "stdout",
     "output_type": "stream",
     "text": [
      "37187\n"
     ]
    }
   ],
   "source": [
    "getTotalNumberOfContacts()"
   ]
  },
  {
   "cell_type": "code",
   "execution_count": 118,
   "metadata": {
    "collapsed": true
   },
   "outputs": [],
   "source": [
    "def get_recently_created_contacts():\n",
    "    \n",
    "    xulr = \"/contacts/v1/lists/all/contacts/recent\"\n",
    "\n",
    "    url = hubspot_api_url + xulr + api_key +\"&timeOffset=2\"\n",
    "    # Now we use urllib3 to open the url and read it\n",
    "    #print(url)\n",
    "    response = urllib2.urlopen(url).read()\n",
    "    #response = requests.get(url)\n",
    "    #soup = BeautifulSoup(response.content, \"html.parser\")\n",
    "    statistics = json.loads(response)\n",
    "    df = pd.DataFrame(statistics[\"contacts\"])\n",
    "    lista = statistics[\"contacts\"]    \n",
    "    print(l0)"
   ]
  },
  {
   "cell_type": "code",
   "execution_count": 119,
   "metadata": {},
   "outputs": [
    {
     "name": "stdout",
     "output_type": "stream",
     "text": [
      "<class 'dict'>\n",
      "{'addedAt': 1512394575789, 'vid': 45816011, 'canonical-vid': 45816011, 'merged-vids': [], 'portal-id': 556697, 'is-contact': True, 'profile-token': 'AO_T-mMu-9DJk8sRfdl7gV1r-tz2Ahdfso6aQN87CHtOBeDi9rwt8dT5SVT8CHFRe98XZEEBaRZ9TtpmRbZvyXP7u1y9DoXY3CMxbbg_t4ZsdFtllVXZuaLUjsRceTXIWIIyR1ogvEeO', 'profile-url': 'https://app.hubspot.com/contacts/556697/lists/public/contact/_AO_T-mMu-9DJk8sRfdl7gV1r-tz2Ahdfso6aQN87CHtOBeDi9rwt8dT5SVT8CHFRe98XZEEBaRZ9TtpmRbZvyXP7u1y9DoXY3CMxbbg_t4ZsdFtllVXZuaLUjsRceTXIWIIyR1ogvEeO/', 'properties': {'firstname': {'value': 'Dawid'}, 'lastmodifieddate': {'value': '1512396394016'}, 'company': {'value': 'Lancer'}, 'lastname': {'value': 'Sokolski'}}, 'form-submissions': [{'conversion-id': 'f6039e2e-620c-4311-8692-e0d859ec13b3', 'timestamp': 1512394575789, 'form-id': '39a44f3b-bdb2-406e-a78c-c304a4a53c07', 'portal-id': 556697, 'title': 'Panel Kontakt.io - create an account - TEST', 'form-type': 'HUBSPOT', 'meta-data': []}], 'identity-profiles': [{'vid': 45816011, 'saved-at-timestamp': 1512394576215, 'deleted-changed-timestamp': 0, 'identities': [{'type': 'EMAIL', 'value': 'dawid.sokolskii@gmail.com', 'timestamp': 1512394575789, 'is-primary': True}, {'type': 'LEAD_GUID', 'value': '4ca61a64-b73f-49d1-b794-cbdf64d56506', 'timestamp': 1512394576212}]}], 'merge-audits': []}\n"
     ]
    }
   ],
   "source": [
    "get_recently_created_contacts()"
   ]
  },
  {
   "cell_type": "code",
   "execution_count": null,
   "metadata": {
    "collapsed": true
   },
   "outputs": [],
   "source": []
  }
 ],
 "metadata": {
  "kernelspec": {
   "display_name": "Python 3",
   "language": "python",
   "name": "python3"
  },
  "language_info": {
   "codemirror_mode": {
    "name": "ipython",
    "version": 3
   },
   "file_extension": ".py",
   "mimetype": "text/x-python",
   "name": "python",
   "nbconvert_exporter": "python",
   "pygments_lexer": "ipython3",
   "version": "3.6.0"
  }
 },
 "nbformat": 4,
 "nbformat_minor": 2
}
